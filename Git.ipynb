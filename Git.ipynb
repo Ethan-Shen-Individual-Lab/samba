{
 "cells": [
  {
   "cell_type": "code",
   "execution_count": 1,
   "id": "bcc9f4c8-f5cf-4dcd-99ac-b423519ed99e",
   "metadata": {},
   "outputs": [
    {
     "name": "stdout",
     "output_type": "stream",
     "text": [
      "[main c031b52] trial\n",
      " 4 files changed, 44 insertions(+), 52219 deletions(-)\n",
      " create mode 100644 .ipynb_checkpoints/Git-checkpoint.ipynb\n",
      " copy SAMBA_RETURN.ipynb => .~SAMBA_RETURN.ipynb (99%)\n",
      " create mode 100644 Git.ipynb\n",
      " rewrite SAMBA_RETURN.ipynb (100%)\n",
      "Enumerating objects: 9, done.\n",
      "Counting objects: 100% (9/9), done.\n",
      "Delta compression using up to 64 threads\n",
      "Compressing objects: 100% (6/6), done.\n",
      "Writing objects: 100% (7/7), 250.37 KiB | 4.39 MiB/s, done.\n",
      "Total 7 (delta 0), reused 0 (delta 0)\n",
      "To https://github.com/Ethan-Shen-Individual-Lab/samba.git\n",
      "   b7f8803..c031b52  main -> main\n"
     ]
    }
   ],
   "source": [
    "!git add .  \n",
    "!git commit -m \"trial2\"  \n",
    "!git push  "
   ]
  },
  {
   "cell_type": "code",
   "execution_count": null,
   "id": "f0175209-126a-4caf-a457-d63beb22d74a",
   "metadata": {},
   "outputs": [],
   "source": []
  }
 ],
 "metadata": {
  "kernelspec": {
   "display_name": "Python 3 (ipykernel)",
   "language": "python",
   "name": "python3"
  },
  "language_info": {
   "codemirror_mode": {
    "name": "ipython",
    "version": 3
   },
   "file_extension": ".py",
   "mimetype": "text/x-python",
   "name": "python",
   "nbconvert_exporter": "python",
   "pygments_lexer": "ipython3",
   "version": "3.11.7"
  }
 },
 "nbformat": 4,
 "nbformat_minor": 5
}
