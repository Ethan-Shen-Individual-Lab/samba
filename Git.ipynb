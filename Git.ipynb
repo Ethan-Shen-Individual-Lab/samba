{
 "cells": [
  {
   "cell_type": "code",
   "execution_count": 2,
   "id": "bcc9f4c8-f5cf-4dcd-99ac-b423519ed99e",
   "metadata": {
    "scrolled": true
   },
   "outputs": [
    {
     "name": "stdout",
     "output_type": "stream",
     "text": [
      "[main c330b0c] 202503081029\n",
      " 2 files changed, 36 insertions(+), 16 deletions(-)\n",
      "Enumerating objects: 7, done.\n",
      "Counting objects: 100% (7/7), done.\n",
      "Delta compression using up to 64 threads\n",
      "Compressing objects: 100% (4/4), done.\n",
      "Writing objects: 100% (4/4), 836 bytes | 836.00 KiB/s, done.\n",
      "Total 4 (delta 3), reused 0 (delta 0), pack-reused 0\n",
      "remote: Resolving deltas: 100% (3/3), completed with 3 local objects.\u001b[K\n",
      "To https://github.com/Ethan-Shen-Individual-Lab/samba.git\n",
      "   c49651e..c330b0c  main -> main\n"
     ]
    }
   ],
   "source": [
    "!git add .  \n",
    "!git commit -m \"202503081029\"  \n",
    "!git push  "
   ]
  },
  {
   "cell_type": "code",
   "execution_count": null,
   "id": "ec7bec4a-b09a-4ce9-8577-14a6ae222859",
   "metadata": {},
   "outputs": [],
   "source": []
  },
  {
   "cell_type": "code",
   "execution_count": null,
   "id": "5b28c46e-f952-47d2-a487-b2c7bdc9685d",
   "metadata": {},
   "outputs": [],
   "source": []
  }
 ],
 "metadata": {
  "kernelspec": {
   "display_name": "Python 3 (ipykernel) [env:pytorch]",
   "language": "python",
   "name": "conda-env-pytorch-py"
  },
  "language_info": {
   "codemirror_mode": {
    "name": "ipython",
    "version": 3
   },
   "file_extension": ".py",
   "mimetype": "text/x-python",
   "name": "python",
   "nbconvert_exporter": "python",
   "pygments_lexer": "ipython3",
   "version": "3.11.0"
  }
 },
 "nbformat": 4,
 "nbformat_minor": 5
}
