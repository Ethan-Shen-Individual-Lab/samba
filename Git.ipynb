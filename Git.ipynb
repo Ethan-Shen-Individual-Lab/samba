{
 "cells": [
  {
   "cell_type": "code",
   "execution_count": 1,
   "id": "bcc9f4c8-f5cf-4dcd-99ac-b423519ed99e",
   "metadata": {},
   "outputs": [
    {
     "name": "stdout",
     "output_type": "stream",
     "text": [
      "[main fbe0dc4] 202503071033\n",
      " 4 files changed, 55618 insertions(+), 15 deletions(-)\n",
      " create mode 100644 .ipynb_checkpoints/SAMBA_RETURN-Copy1-checkpoint.ipynb\n",
      " create mode 100644 SAMBA_RETURN-Copy1.ipynb\n",
      " create mode 100644 best_result.pt\n",
      "Enumerating objects: 9, done.\n",
      "Counting objects: 100% (9/9), done.\n",
      "Delta compression using up to 64 threads\n",
      "Compressing objects: 100% (6/6), done.\n",
      "Writing objects: 100% (6/6), 3.00 MiB | 1.10 MiB/s, done.\n",
      "Total 6 (delta 2), reused 0 (delta 0)\n",
      "remote: Resolving deltas: 100% (2/2), completed with 2 local objects.\u001b[K\n",
      "To https://github.com/Ethan-Shen-Individual-Lab/samba.git\n",
      "   4c399e8..fbe0dc4  main -> main\n"
     ]
    }
   ],
   "source": [
    "!git add .  \n",
    "!git commit -m \"202503071033\"  \n",
    "!git push  "
   ]
  },
  {
   "cell_type": "code",
   "execution_count": null,
   "id": "ec7bec4a-b09a-4ce9-8577-14a6ae222859",
   "metadata": {},
   "outputs": [],
   "source": []
  },
  {
   "cell_type": "code",
   "execution_count": null,
   "id": "5b28c46e-f952-47d2-a487-b2c7bdc9685d",
   "metadata": {},
   "outputs": [],
   "source": []
  }
 ],
 "metadata": {
  "kernelspec": {
   "display_name": "Python 3 (ipykernel) [env:pytorch]",
   "language": "python",
   "name": "conda-env-pytorch-py"
  },
  "language_info": {
   "codemirror_mode": {
    "name": "ipython",
    "version": 3
   },
   "file_extension": ".py",
   "mimetype": "text/x-python",
   "name": "python",
   "nbconvert_exporter": "python",
   "pygments_lexer": "ipython3",
   "version": "3.11.0"
  }
 },
 "nbformat": 4,
 "nbformat_minor": 5
}
