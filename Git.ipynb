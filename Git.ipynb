{
 "cells": [
  {
   "cell_type": "code",
   "execution_count": 1,
   "id": "bcc9f4c8-f5cf-4dcd-99ac-b423519ed99e",
   "metadata": {
    "scrolled": true
   },
   "outputs": [
    {
     "name": "stdout",
     "output_type": "stream",
     "text": [
      "[main c49651e] 202503081027\n",
      " 22 files changed, 13195 insertions(+), 54063 deletions(-)\n",
      " create mode 100644 .ipynb_checkpoints/SAMBA_Data2023return_250306-checkpoint\n",
      " create mode 100644 .ipynb_checkpoints/SAMBA_Data2023return_change-checkpoint\n",
      " rewrite .ipynb_checkpoints/SAMBA_RETURN-Copy1-checkpoint.ipynb (98%)\n",
      " rewrite Git.ipynb (98%)\n",
      " create mode 100644 SAMBA_Data2023_return_250306/1_stemgnn.pt\n",
      " create mode 100644 SAMBA_Data2023_return_250306/2_stemgnn.pt\n",
      " create mode 100644 SAMBA_Data2023_return_250306/3_stemgnn.pt\n",
      " create mode 100644 SAMBA_Data2023_return_250306/4_stemgnn.pt\n",
      " create mode 100644 SAMBA_Data2023_return_250306/5_stemgnn.pt\n",
      " create mode 100644 SAMBA_Data2023return_250306\n",
      " create mode 100644 milan_sms_mamaba.txt\n",
      " create mode 100644 return_p1_1.npy\n",
      " create mode 100644 return_p1_2.npy\n",
      " create mode 100644 return_p1_3.npy\n",
      " create mode 100644 return_p1_4.npy\n",
      " create mode 100644 return_p1_5.npy\n",
      " create mode 100644 return_t1_1.npy\n",
      " create mode 100644 return_t1_2.npy\n",
      " create mode 100644 return_t1_3.npy\n",
      " create mode 100644 return_t1_4.npy\n",
      " create mode 100644 return_t1_5.npy\n",
      "Enumerating objects: 25, done.\n",
      "Counting objects: 100% (25/25), done.\n",
      "Delta compression using up to 64 threads\n",
      "Compressing objects: 100% (20/20), done.\n",
      "Writing objects: 100% (20/20), 18.56 MiB | 916.00 KiB/s, done.\n",
      "Total 20 (delta 1), reused 0 (delta 0), pack-reused 0\n",
      "remote: Resolving deltas: 100% (1/1), completed with 1 local object.\u001b[K\n",
      "To https://github.com/Ethan-Shen-Individual-Lab/samba.git\n",
      "   fbe0dc4..c49651e  main -> main\n"
     ]
    }
   ],
   "source": [
    "!git add .  \n",
    "!git commit -m \"202503081027\"  \n",
    "!git push  "
   ]
  },
  {
   "cell_type": "code",
   "execution_count": null,
   "id": "ec7bec4a-b09a-4ce9-8577-14a6ae222859",
   "metadata": {},
   "outputs": [],
   "source": []
  },
  {
   "cell_type": "code",
   "execution_count": null,
   "id": "5b28c46e-f952-47d2-a487-b2c7bdc9685d",
   "metadata": {},
   "outputs": [],
   "source": []
  }
 ],
 "metadata": {
  "kernelspec": {
   "display_name": "Python 3 (ipykernel) [env:pytorch]",
   "language": "python",
   "name": "conda-env-pytorch-py"
  },
  "language_info": {
   "codemirror_mode": {
    "name": "ipython",
    "version": 3
   },
   "file_extension": ".py",
   "mimetype": "text/x-python",
   "name": "python",
   "nbconvert_exporter": "python",
   "pygments_lexer": "ipython3",
   "version": "3.11.0"
  }
 },
 "nbformat": 4,
 "nbformat_minor": 5
}
