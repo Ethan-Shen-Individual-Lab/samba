{
 "cells": [
  {
   "cell_type": "code",
   "execution_count": 1,
   "id": "bcc9f4c8-f5cf-4dcd-99ac-b423519ed99e",
   "metadata": {
    "scrolled": true
   },
   "outputs": [
    {
     "name": "stdout",
     "output_type": "stream",
     "text": [
      "[main e4954cf] 202503082309\n",
      " 55 files changed, 49999 insertions(+), 77 deletions(-)\n",
      " create mode 100644 .ipynb_checkpoints/SAMBA_Data2023return_250308trial2-checkpoint\n",
      " create mode 100644 .ipynb_checkpoints/SAMBA_RETURN-Copy2-checkpoint.ipynb\n",
      " create mode 100644 SAMBA_Data2023_return_250308trail2/10_stemgnn.pt\n",
      " create mode 100644 SAMBA_Data2023_return_250308trail2/11_stemgnn.pt\n",
      " create mode 100644 SAMBA_Data2023_return_250308trail2/12_stemgnn.pt\n",
      " create mode 100644 SAMBA_Data2023_return_250308trail2/13_stemgnn.pt\n",
      " create mode 100644 SAMBA_Data2023_return_250308trail2/14_stemgnn.pt\n",
      " create mode 100644 SAMBA_Data2023_return_250308trail2/1_stemgnn.pt\n",
      " create mode 100644 SAMBA_Data2023_return_250308trail2/2_stemgnn.pt\n",
      " create mode 100644 SAMBA_Data2023_return_250308trail2/3_stemgnn.pt\n",
      " create mode 100644 SAMBA_Data2023_return_250308trail2/4_stemgnn.pt\n",
      " create mode 100644 SAMBA_Data2023_return_250308trail2/5_stemgnn.pt\n",
      " create mode 100644 SAMBA_Data2023_return_250308trail2/6_stemgnn.pt\n",
      " create mode 100644 SAMBA_Data2023_return_250308trail2/7_stemgnn.pt\n",
      " create mode 100644 SAMBA_Data2023_return_250308trail2/8_stemgnn.pt\n",
      " create mode 100644 SAMBA_Data2023_return_250308trail2/9_stemgnn.pt\n",
      " create mode 100644 SAMBA_Data2023return_250308trial2\n",
      " create mode 100644 SAMBA_RETURN-Copy2.ipynb\n",
      " create mode 100644 return_p03081543_1.npy\n",
      " create mode 100644 return_p03081543_10.npy\n",
      " create mode 100644 return_p03081543_11.npy\n",
      " create mode 100644 return_p03081543_12.npy\n",
      " create mode 100644 return_p03081543_13.npy\n",
      " create mode 100644 return_p03081543_14.npy\n",
      " create mode 100644 return_p03081543_2.npy\n",
      " create mode 100644 return_p03081543_3.npy\n",
      " create mode 100644 return_p03081543_4.npy\n",
      " create mode 100644 return_p03081543_5.npy\n",
      " create mode 100644 return_p03081543_6.npy\n",
      " create mode 100644 return_p03081543_7.npy\n",
      " create mode 100644 return_p03081543_8.npy\n",
      " create mode 100644 return_p03081543_9.npy\n",
      " delete mode 100644 return_p1_1.npy\n",
      " delete mode 100644 return_p1_2.npy\n",
      " delete mode 100644 return_p1_3.npy\n",
      " delete mode 100644 return_p1_4.npy\n",
      " delete mode 100644 return_p1_5.npy\n",
      " rename return_t1_1.npy => return_t03081543_1.npy (100%)\n",
      " rename return_t1_2.npy => return_t03081543_10.npy (100%)\n",
      " rename return_t1_3.npy => return_t03081543_11.npy (100%)\n",
      " rename return_t1_4.npy => return_t03081543_12.npy (100%)\n",
      " rename return_t1_5.npy => return_t03081543_13.npy (100%)\n",
      " create mode 100644 return_t03081543_14.npy\n",
      " create mode 100644 return_t03081543_2.npy\n",
      " create mode 100644 return_t03081543_3.npy\n",
      " create mode 100644 return_t03081543_4.npy\n",
      " create mode 100644 return_t03081543_5.npy\n",
      " create mode 100644 return_t03081543_6.npy\n",
      " create mode 100644 return_t03081543_7.npy\n",
      " create mode 100644 return_t03081543_8.npy\n",
      " create mode 100644 return_t03081543_9.npy\n",
      "Enumerating objects: 43, done.\n",
      "Counting objects: 100% (43/43), done.\n",
      "Delta compression using up to 64 threads\n",
      "Compressing objects: 100% (38/38), done.\n",
      "Writing objects: 100% (38/38), 51.90 MiB | 9.08 MiB/s, done.\n",
      "Total 38 (delta 2), reused 0 (delta 0), pack-reused 0\n",
      "remote: Resolving deltas: 100% (2/2), completed with 2 local objects.\u001b[K\n",
      "To https://github.com/Ethan-Shen-Individual-Lab/samba.git\n",
      "   c330b0c..e4954cf  main -> main\n"
     ]
    }
   ],
   "source": [
    "!git add .  \n",
    "!git commit -m \"202503082309\"  \n",
    "!git push  "
   ]
  },
  {
   "cell_type": "code",
   "execution_count": null,
   "id": "ec7bec4a-b09a-4ce9-8577-14a6ae222859",
   "metadata": {},
   "outputs": [],
   "source": []
  },
  {
   "cell_type": "code",
   "execution_count": null,
   "id": "5b28c46e-f952-47d2-a487-b2c7bdc9685d",
   "metadata": {},
   "outputs": [],
   "source": []
  }
 ],
 "metadata": {
  "kernelspec": {
   "display_name": "Python 3 (ipykernel) [env:pytorch]",
   "language": "python",
   "name": "conda-env-pytorch-py"
  },
  "language_info": {
   "codemirror_mode": {
    "name": "ipython",
    "version": 3
   },
   "file_extension": ".py",
   "mimetype": "text/x-python",
   "name": "python",
   "nbconvert_exporter": "python",
   "pygments_lexer": "ipython3",
   "version": "3.11.0"
  }
 },
 "nbformat": 4,
 "nbformat_minor": 5
}
